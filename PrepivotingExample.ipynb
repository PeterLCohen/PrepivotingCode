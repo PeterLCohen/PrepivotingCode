{
 "cells": [
  {
   "cell_type": "markdown",
   "metadata": {},
   "source": [
    "In this notebook we demonstrate Gaussian prepivoting for the $\\sqrt{N}$-scaled absolute difference in means.  We use a completely randomized experiment and we take a finite-population-inferential approach.  For more information on the methods here, see https://arxiv.org/abs/2002.06654."
   ]
  },
  {
   "cell_type": "markdown",
   "metadata": {},
   "source": [
    "# Generate Some Data"
   ]
  },
  {
   "cell_type": "code",
   "execution_count": 22,
   "metadata": {},
   "outputs": [],
   "source": [
    "###########################################\n",
    "#              Generate Data              #\n",
    "###########################################\n",
    "# Some algorithm hyperparameters\n",
    "numIters = 5000\n",
    "numMonteCarlo = 100\n",
    "\n",
    "# First we make some synthetic data for our experiments\n",
    "N = 10000 # the number of units\n",
    "p = .3 # porportion of treated units\n",
    "nt = floor(N*p) # number of treated\n",
    "nc = N - nt # number of control\n",
    "\n",
    "# Handy variables\n",
    "treatind = c(rep(T, nt), rep(F, nc))\n",
    "\n",
    "# Superpopulation level parameters\n",
    "SdT = 20\n",
    "SdC = 1\n",
    "SigmaX = cbind(c(1,.5, .2), c(.5,1,.3), c(.2,.3,1))\n",
    "betaT = c(1,2,3)*.2\n",
    "betaC = c(-1,-2, 4)*.8\n",
    "\n",
    "# Taubar is the average additive treatment effect\n",
    "taubar = 0\n",
    "\n",
    "# Make covariates and potential outcomes (Gaussian model with noisey linear relations)\n",
    "X = mvtnorm::rmvnorm(N, c(0,0,0), SigmaX)\n",
    "Yttemp = X%*%betaT + rnorm(N, 0, SdT)\n",
    "Yc = X%*%betaC + rnorm(N, 0, SdC) # The control POs\n",
    "Yt = Yttemp - mean(Yttemp - Yc) + taubar # The treated POs (this centering forces Neyman's null to hold)\n",
    "\n",
    "Z = sample(treatind, replace = FALSE) # Select a treatment allocation for a CRE design\n",
    "\n",
    "# This is what the experimenter gets to see\n",
    "Yobs = Z*Yt + (1 - Z)*Yc\n",
    "Ytreat = Yt[Z]\n",
    "Ycontrol = Yc[!Z]\n",
    "Xtreat = X[Z,]\n",
    "Xcontrol = X[!Z,]\n",
    "Xtreat = data.frame(Xtreat)\n",
    "Xcontrol = data.frame(Xcontrol)"
   ]
  },
  {
   "cell_type": "markdown",
   "metadata": {},
   "source": [
    "# Generate the *true* randomization distribution."
   ]
  },
  {
   "cell_type": "code",
   "execution_count": 23,
   "metadata": {},
   "outputs": [],
   "source": [
    "randomizationDistribution = numeric(numIters)\n",
    "for(rand in 1:numIters)\n",
    "{\n",
    "    treatmentAlloc = sample(treatind, replace = FALSE) # Select a treatment allocation for a CRE design\n",
    "\n",
    "    # This is what the experimenter gets to see\n",
    "    Yobs = treatmentAlloc*Yt + (1 - treatmentAlloc)*Yc\n",
    "    Ytreat = Yt[treatmentAlloc]\n",
    "    Ycontrol = Yc[!treatmentAlloc]\n",
    "    Xtreat = X[treatmentAlloc,]\n",
    "    Xcontrol = X[!treatmentAlloc,]\n",
    "    Xtreat = data.frame(Xtreat)\n",
    "    Xcontrol = data.frame(Xcontrol)\n",
    "    \n",
    "    randomizationDistribution[rand] = sqrt(N)*abs(mean(Ytreat) - mean(Ycontrol))\n",
    "}"
   ]
  },
  {
   "cell_type": "markdown",
   "metadata": {},
   "source": [
    "# Observe a single realization of the experiment."
   ]
  },
  {
   "cell_type": "code",
   "execution_count": 24,
   "metadata": {},
   "outputs": [],
   "source": [
    "Z = sample(treatind, replace = FALSE) # Select a treatment allocation for a CRE design\n",
    "\n",
    "# This is what the experimenter gets to see\n",
    "Yobs = Z*Yt + (1 - Z)*Yc\n",
    "Ytreat = Yt[Z]\n",
    "Ycontrol = Yc[!Z]\n",
    "Xtreat = X[Z,]\n",
    "Xcontrol = X[!Z,]\n",
    "Xtreat = data.frame(Xtreat)\n",
    "Xcontrol = data.frame(Xcontrol)"
   ]
  },
  {
   "cell_type": "markdown",
   "metadata": {},
   "source": [
    "# Generate the *reference* distribution."
   ]
  },
  {
   "cell_type": "code",
   "execution_count": 25,
   "metadata": {},
   "outputs": [],
   "source": [
    "referenceDistribution = numeric(numIters)\n",
    "for(sim in 1:numIters)\n",
    "{\n",
    "    pseudoTreatmentAllocation = sample(treatind, replace = FALSE) # Select a treatment allocation for a CRE design\n",
    "    \n",
    "    # Impute counterfactuals \"as if Fisher's sharp null held\" (even if inference is desired for Neyman's weak null)\n",
    "    imputedYtreat = Yobs[pseudoTreatmentAllocation]\n",
    "    imputedYcontrol = Yobs[!pseudoTreatmentAllocation]\n",
    "\n",
    "    referenceDistribution[sim] = sqrt(N)*abs(mean(imputedYtreat) - mean(imputedYcontrol))\n",
    "}"
   ]
  },
  {
   "cell_type": "markdown",
   "metadata": {},
   "source": [
    "# Visualize the two distributions."
   ]
  },
  {
   "cell_type": "code",
   "execution_count": 26,
   "metadata": {},
   "outputs": [
    {
     "data": {
      "image/png": "[encoded data removed]",
      "text/plain": [
       "Plot with title \"True CDF vs. Reference\""
      ]
     },
     "metadata": {},
     "output_type": "display_data"
    }
   ],
   "source": [
    "plot.ecdf(randomizationDistribution, col = 'orange', main = 'True CDF vs. Reference', xlab = '', ylab = '')\n",
    "plot.ecdf(referenceDistribution, add = TRUE, col = 'blue')\n",
    "legend(x = 'topleft', legend = c('True', 'Reference'), col = c('orange', 'blue'), lwd = c(3, 3))"
   ]
  },
  {
   "cell_type": "markdown",
   "metadata": {},
   "source": [
    "# Summary:\n",
    "The reference distribution lies above the true distribution, so inferences based upon the reference distribution are *anticonservative* with respect to the true data-generating distribution."
   ]
  },
  {
   "cell_type": "markdown",
   "metadata": {},
   "source": [
    "# Now we apply Gaussian prepivoting.\n",
    "\n",
    "Just like before, we will first figure out the *true* distribution of the prepivoted statistic (which is not computable by the experimenter because she does not get to observe counterfactual outcomes)."
   ]
  },
  {
   "cell_type": "code",
   "execution_count": 27,
   "metadata": {},
   "outputs": [],
   "source": [
    "prepivottedStatistic = function(treatedOutcomes, controlOutcomes, numGaussian = 100)\n",
    "{\n",
    "    nt = length(treatedOutcomes)\n",
    "    nc = length(controlOutcomes)\n",
    "    N = nt + nc\n",
    "    \n",
    "    unprepivotedStatistic = sqrt(N)*abs(mean(treatedOutcomes) - mean(controlOutcomes))\n",
    "    \n",
    "    # Neyman's classical variance estimator for the difference in means\n",
    "    varEst = (var(treatedOutcomes)/nt) + (var(controlOutcomes)/nc) \n",
    "    \n",
    "    # Gaussian prepivot by using Monte-Carlo approximation to the pushforward measure\n",
    "    MCapprox = numeric(numMonteCarlo)\n",
    "    for(b in 1:numMonteCarlo)\n",
    "    {\n",
    "        gaussianDraw = mvtnorm::rmvnorm(n = 1, sigma = as.matrix(varEst))\n",
    "        MCapprox[b] = sqrt(N)*abs(gaussianDraw)\n",
    "    }\n",
    "    prepivResult = mean(MCapprox <= unprepivotedStatistic) # The prepivoted statistic\n",
    "    return(prepivResult)\n",
    "}"
   ]
  },
  {
   "cell_type": "markdown",
   "metadata": {},
   "source": [
    "# Generate the *true* randomization distribution of the prepivoted statistic."
   ]
  },
  {
   "cell_type": "code",
   "execution_count": 28,
   "metadata": {},
   "outputs": [],
   "source": [
    "prepivRandomizationDistribution = numeric(numIters)\n",
    "for(rand in 1:numIters)\n",
    "{\n",
    "    treatmentAlloc = sample(treatind, replace = FALSE) # Select a treatment allocation for a CRE design\n",
    "\n",
    "    # This is what the experimenter gets to see\n",
    "    Yobs = treatmentAlloc*Yt + (1 - treatmentAlloc)*Yc\n",
    "    Ytreat = Yt[treatmentAlloc]\n",
    "    Ycontrol = Yc[!treatmentAlloc]\n",
    "    Xtreat = X[treatmentAlloc,]\n",
    "    Xcontrol = X[!treatmentAlloc,]\n",
    "    Xtreat = data.frame(Xtreat)\n",
    "    Xcontrol = data.frame(Xcontrol)\n",
    "        \n",
    "    prepivRandomizationDistribution[rand] = prepivottedStatistic(treatedOutcomes = Ytreat, controlOutcomes = Ycontrol)\n",
    "}"
   ]
  },
  {
   "cell_type": "markdown",
   "metadata": {},
   "source": [
    "# Generate the *reference* distribution.\n",
    "For this we use the same realization of the CRE that we used before."
   ]
  },
  {
   "cell_type": "code",
   "execution_count": 29,
   "metadata": {},
   "outputs": [],
   "source": [
    "prepivReferenceDistribution = numeric(numIters)\n",
    "for(sim in 1:numIters)\n",
    "{\n",
    "    pseudoTreatmentAllocation = sample(treatind, replace = FALSE) # Select a treatment allocation for a CRE design\n",
    "    \n",
    "    # Impute counterfactuals \"as if Fisher's sharp null held\" (even if inference is desired for Neyman's weak null)\n",
    "    imputedYtreat = Yobs[pseudoTreatmentAllocation]\n",
    "    imputedYcontrol = Yobs[!pseudoTreatmentAllocation]\n",
    "\n",
    "    prepivReferenceDistribution[sim] = prepivottedStatistic(treatedOutcomes = imputedYtreat, controlOutcomes = imputedYcontrol)\n",
    "}"
   ]
  },
  {
   "cell_type": "markdown",
   "metadata": {},
   "source": [
    "# Visualize the two distributions."
   ]
  },
  {
   "cell_type": "code",
   "execution_count": 30,
   "metadata": {},
   "outputs": [
    {
     "data": {
      "image/png": "[encoded data removed]",
      "text/plain": [
       "Plot with title \"True CDF vs. Reference\""
      ]
     },
     "metadata": {},
     "output_type": "display_data"
    }
   ],
   "source": [
    "plot.ecdf(prepivRandomizationDistribution, col = 'orange', main = 'True CDF vs. Reference', xlab = '', ylab = '')\n",
    "plot.ecdf(prepivReferenceDistribution, add = TRUE, col = 'blue')\n",
    "legend(x = 'topleft', legend = c('True', 'Reference'), col = c('orange', 'blue'), lwd = c(3, 3))"
   ]
  },
  {
   "cell_type": "markdown",
   "metadata": {},
   "source": [
    "# Summary:\n",
    "Now the reference distribution lies below the true distribution, so inferences based upon the reference distribution are *conservative* with respect to the true data-generating distribution.\n",
    "\n",
    "In this particular case -- when the test statistic is $T(y(Z), Z) = \\sqrt{N} \\hat{\\tau}(y(Z), Z)$ -- studentizing would have fixed the original problem of anticonservative inference.  However, there are numerous examples of interesting test statistics $T(y(Z), Z)$ where studentization is either:\n",
    "(a) not yet figured out for the particular design & statistic at hand, or\n",
    "(b) not sufficient to rectify the issue of anticonservative inference under the reference distribution.\n",
    "\n",
    "For examples of both of these, see https://arxiv.org/abs/2002.06654.  In that paper we show that -- subject to mild conditions -- Gaussian prepivoting gives an automatic solution for situation (a): no clever studentizing or complex case-by-case analysis needed, just use Gaussian prepivoting! For situation (b), Gaussian prepivoting still works: no need to give up because studentizing is insufficient."
   ]
  },
  {
   "cell_type": "code",
   "execution_count": null,
   "metadata": {},
   "outputs": [],
   "source": []
  }
 ],
 "metadata": {
  "kernelspec": {
   "display_name": "R",
   "language": "R",
   "name": "ir"
  },
  "language_info": {
   "codemirror_mode": "r",
   "file_extension": ".r",
   "mimetype": "text/x-r-source",
   "name": "R",
   "pygments_lexer": "r",
   "version": "3.6.1"
  }
 },
 "nbformat": 4,
 "nbformat_minor": 4
}
